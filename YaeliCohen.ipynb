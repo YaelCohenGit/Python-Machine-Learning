{
 "cells": [
  {
   "cell_type": "markdown",
   "id": "4d03c19b",
   "metadata": {},
   "source": [
    "EX. 1 li_reg"
   ]
  },
  {
   "cell_type": "code",
   "execution_count": 5,
   "id": "859b3690",
   "metadata": {},
   "outputs": [],
   "source": [
    "import matplotlib.pyplot as plt\n",
    "import numpy as np\n",
    "import pandas as pd\n",
    "import seaborn as sns\n",
    "from sklearn import linear_model\n",
    "%matplotlib inline"
   ]
  },
  {
   "cell_type": "markdown",
   "id": "ddaada84",
   "metadata": {},
   "source": [
    "QUIZ 1"
   ]
  },
  {
   "cell_type": "code",
   "execution_count": 28,
   "id": "dad2dc63",
   "metadata": {},
   "outputs": [
    {
     "name": "stdout",
     "output_type": "stream",
     "text": [
      "B0=30.087861794245192\n",
      "B1=-159.4741523408623\n"
     ]
    }
   ],
   "source": [
    "temprature = [[14.2], [16.4], [11.9], [15.2], [18.5] , [22.1], [19.4], [25.1], [23.4], [18.1], [22.6], [17.2]]\n",
    "ice_cream_sales = [215, 325, 185, 332, 406, 522, 412, 614, 544, 421, 445, 408 ]\n",
    "\n",
    "lin_model = linear_model.LinearRegression()\n",
    "lin_model.fit(temprature, ice_cream_sales)\n",
    "print(f'B0={lin_model.coef_[0]}')\n",
    "print(f'B1={lin_model.intercept_}')"
   ]
  },
  {
   "cell_type": "markdown",
   "id": "29bfd39b",
   "metadata": {},
   "source": [
    "QUIZ 2"
   ]
  },
  {
   "cell_type": "code",
   "execution_count": 14,
   "id": "6292c706",
   "metadata": {},
   "outputs": [
    {
     "data": {
      "image/png": "[encoded data removed]",
      "text/plain": [
       "<Figure size 640x480 with 1 Axes>"
      ]
     },
     "metadata": {},
     "output_type": "display_data"
    }
   ],
   "source": [
    "#plt.figure(figsize=(5, 5))\n",
    "plt.plot(temprature, ice_cream_sales, '.k')\n",
    "plt.plot(temprature, lin_model.predict(temprature))\n",
    "plt.xlabel('Temprature')\n",
    "plt.ylabel('Ice Cream Sales');\n"
   ]
  },
  {
   "cell_type": "markdown",
   "id": "791fa3aa",
   "metadata": {},
   "source": [
    "positive"
   ]
  },
  {
   "cell_type": "markdown",
   "id": "b85c92ed",
   "metadata": {},
   "source": [
    "quiz 3"
   ]
  },
  {
   "cell_type": "code",
   "execution_count": 16,
   "id": "9954c51e",
   "metadata": {},
   "outputs": [
    {
     "name": "stdout",
     "output_type": "stream",
     "text": [
      "[231.66805098]\n"
     ]
    }
   ],
   "source": [
    "print(lin_model.predict([[13]]))"
   ]
  },
  {
   "cell_type": "markdown",
   "id": "6d4c7b47",
   "metadata": {},
   "source": [
    "quiz 4"
   ]
  },
  {
   "cell_type": "markdown",
   "id": "65d69c37",
   "metadata": {},
   "source": [
    "\"This is a good idea to use this data to predict sales at -2 degrees\"\n",
    "false. As we can see, the range of the given temperetures is 11.9-25.1 .\n"
   ]
  },
  {
   "cell_type": "markdown",
   "id": "e1bf824c",
   "metadata": {},
   "source": [
    "quiz 5"
   ]
  },
  {
   "cell_type": "markdown",
   "id": "69d39087",
   "metadata": {},
   "source": [
    "\"Linear model is a good model for our data\"\n",
    "True"
   ]
  },
  {
   "cell_type": "markdown",
   "id": "7369f283",
   "metadata": {},
   "source": [
    "quiz 6"
   ]
  },
  {
   "cell_type": "code",
   "execution_count": 41,
   "id": "3a4ea7e9",
   "metadata": {},
   "outputs": [
    {
     "data": {
      "text/plain": [
       "'MSE=159736.46246535287'"
      ]
     },
     "execution_count": 41,
     "metadata": {},
     "output_type": "execute_result"
    }
   ],
   "source": [
    "from sklearn import metrics\n",
    "y_pred = lin_model.predict(temprature)\n",
    "f'MSE={metrics.mean_squared_error(temprature, y_pred)}' "
   ]
  },
  {
   "cell_type": "markdown",
   "id": "bbb738fc",
   "metadata": {},
   "source": [
    "quiz 7"
   ]
  },
  {
   "cell_type": "code",
   "execution_count": null,
   "id": "296588f2",
   "metadata": {},
   "outputs": [],
   "source": []
  },
  {
   "cell_type": "markdown",
   "id": "1fac2777",
   "metadata": {},
   "source": [
    "quiz 8"
   ]
  },
  {
   "cell_type": "code",
   "execution_count": 43,
   "id": "a640f936",
   "metadata": {},
   "outputs": [
    {
     "data": {
      "text/plain": [
       "0.9168"
      ]
     },
     "execution_count": 43,
     "metadata": {},
     "output_type": "execute_result"
    }
   ],
   "source": [
    "r2 = np.round(lin_model.score(temprature, ice_cream_sales), 4)\n",
    "r2"
   ]
  },
  {
   "cell_type": "code",
   "execution_count": null,
   "id": "48f7b0f8",
   "metadata": {},
   "outputs": [],
   "source": []
  }
 ],
 "metadata": {
  "kernelspec": {
   "display_name": "Python 3 (ipykernel)",
   "language": "python",
   "name": "python3"
  },
  "language_info": {
   "codemirror_mode": {
    "name": "ipython",
    "version": 3
   },
   "file_extension": ".py",
   "mimetype": "text/x-python",
   "name": "python",
   "nbconvert_exporter": "python",
   "pygments_lexer": "ipython3",
   "version": "3.10.9"
  }
 },
 "nbformat": 4,
 "nbformat_minor": 5
}
