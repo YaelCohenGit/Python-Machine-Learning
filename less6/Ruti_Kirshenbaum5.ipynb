{
 "cells": [
  {
   "cell_type": "code",
   "execution_count": 2,
   "id": "9b3a24de",
   "metadata": {},
   "outputs": [
    {
     "name": "stderr",
     "output_type": "stream",
     "text": [
      "Matplotlib is building the font cache; this may take a moment.\n"
     ]
    }
   ],
   "source": [
    "import matplotlib.pyplot as plt\n",
    "import numpy as np\n",
    "import pandas as pd\n",
    "import seaborn as sns\n",
    "from sklearn import linear_model, svm\n",
    "from sklearn import model_selection\n",
    "from sklearn.model_selection import train_test_split\n",
    "from sklearn.neighbors import KNeighborsClassifier\n",
    "from sklearn.metrics import confusion_matrix, classification_report, accuracy_score\n",
    "\n",
    "%matplotlib inline\n"
   ]
  },
  {
   "cell_type": "code",
   "execution_count": 4,
   "id": "30633b36",
   "metadata": {},
   "outputs": [
    {
     "data": {
      "text/html": [
       "<div>\n",
       "<style scoped>\n",
       "    .dataframe tbody tr th:only-of-type {\n",
       "        vertical-align: middle;\n",
       "    }\n",
       "\n",
       "    .dataframe tbody tr th {\n",
       "        vertical-align: top;\n",
       "    }\n",
       "\n",
       "    .dataframe thead th {\n",
       "        text-align: right;\n",
       "    }\n",
       "</style>\n",
       "<table border=\"1\" class=\"dataframe\">\n",
       "  <thead>\n",
       "    <tr style=\"text-align: right;\">\n",
       "      <th></th>\n",
       "      <th>Gender</th>\n",
       "      <th>Age</th>\n",
       "      <th>Salary</th>\n",
       "      <th>PurchasePhone</th>\n",
       "    </tr>\n",
       "  </thead>\n",
       "  <tbody>\n",
       "    <tr>\n",
       "      <th>0</th>\n",
       "      <td>Male</td>\n",
       "      <td>19</td>\n",
       "      <td>19000</td>\n",
       "      <td>0</td>\n",
       "    </tr>\n",
       "    <tr>\n",
       "      <th>1</th>\n",
       "      <td>Male</td>\n",
       "      <td>35</td>\n",
       "      <td>20000</td>\n",
       "      <td>0</td>\n",
       "    </tr>\n",
       "    <tr>\n",
       "      <th>2</th>\n",
       "      <td>Female</td>\n",
       "      <td>26</td>\n",
       "      <td>43000</td>\n",
       "      <td>0</td>\n",
       "    </tr>\n",
       "    <tr>\n",
       "      <th>3</th>\n",
       "      <td>Female</td>\n",
       "      <td>27</td>\n",
       "      <td>57000</td>\n",
       "      <td>0</td>\n",
       "    </tr>\n",
       "    <tr>\n",
       "      <th>4</th>\n",
       "      <td>Male</td>\n",
       "      <td>19</td>\n",
       "      <td>76000</td>\n",
       "      <td>0</td>\n",
       "    </tr>\n",
       "    <tr>\n",
       "      <th>...</th>\n",
       "      <td>...</td>\n",
       "      <td>...</td>\n",
       "      <td>...</td>\n",
       "      <td>...</td>\n",
       "    </tr>\n",
       "    <tr>\n",
       "      <th>385</th>\n",
       "      <td>Male</td>\n",
       "      <td>56</td>\n",
       "      <td>60000</td>\n",
       "      <td>1</td>\n",
       "    </tr>\n",
       "    <tr>\n",
       "      <th>386</th>\n",
       "      <td>Female</td>\n",
       "      <td>49</td>\n",
       "      <td>39000</td>\n",
       "      <td>1</td>\n",
       "    </tr>\n",
       "    <tr>\n",
       "      <th>387</th>\n",
       "      <td>Male</td>\n",
       "      <td>39</td>\n",
       "      <td>71000</td>\n",
       "      <td>0</td>\n",
       "    </tr>\n",
       "    <tr>\n",
       "      <th>388</th>\n",
       "      <td>Male</td>\n",
       "      <td>47</td>\n",
       "      <td>34000</td>\n",
       "      <td>1</td>\n",
       "    </tr>\n",
       "    <tr>\n",
       "      <th>389</th>\n",
       "      <td>Female</td>\n",
       "      <td>48</td>\n",
       "      <td>35000</td>\n",
       "      <td>1</td>\n",
       "    </tr>\n",
       "  </tbody>\n",
       "</table>\n",
       "<p>390 rows × 4 columns</p>\n",
       "</div>"
      ],
      "text/plain": [
       "     Gender  Age  Salary  PurchasePhone\n",
       "0      Male   19   19000              0\n",
       "1      Male   35   20000              0\n",
       "2    Female   26   43000              0\n",
       "3    Female   27   57000              0\n",
       "4      Male   19   76000              0\n",
       "..      ...  ...     ...            ...\n",
       "385    Male   56   60000              1\n",
       "386  Female   49   39000              1\n",
       "387    Male   39   71000              0\n",
       "388    Male   47   34000              1\n",
       "389  Female   48   35000              1\n",
       "\n",
       "[390 rows x 4 columns]"
      ]
     },
     "execution_count": 4,
     "metadata": {},
     "output_type": "execute_result"
    }
   ],
   "source": [
    "df = pd.read_csv(r\"H:\\python\\phone_purchase.csv\")\n",
    "df"
   ]
  },
  {
   "cell_type": "code",
   "execution_count": 5,
   "id": "b911e245",
   "metadata": {},
   "outputs": [],
   "source": [
    "df['Gender'].replace({'Male':0, 'Female':1}, inplace = True)"
   ]
  },
  {
   "cell_type": "code",
   "execution_count": 16,
   "id": "7eb43868",
   "metadata": {},
   "outputs": [
    {
     "name": "stdout",
     "output_type": "stream",
     "text": [
      "LG Incorrect= 36\n",
      "LG Accuracy= 0.6326530612244898\n",
      "LG Precision= 0.0\n",
      "LG Recall= nan\n",
      "\n",
      "KNN Incorrect= 21\n",
      "KNN Accuracy= 0.7857142857142857\n",
      "KNN Precision= 0.5\n",
      "KNN Recall= 0.8571428571428571\n",
      "\n",
      "svc Incorrect= 23\n",
      "svc Accuracy= 0.7653061224489796\n",
      "svc Precision= 0.4444444444444444\n",
      "svc Recall= 0.8421052631578947\n",
      "\n"
     ]
    },
    {
     "name": "stderr",
     "output_type": "stream",
     "text": [
      "C:\\ProgramData\\anaconda3\\lib\\site-packages\\sklearn\\utils\\validation.py:1143: DataConversionWarning: A column-vector y was passed when a 1d array was expected. Please change the shape of y to (n_samples, ), for example using ravel().\n",
      "  y = column_or_1d(y, warn=True)\n",
      "C:\\Users\\קירשנבוים רות\\AppData\\Local\\Temp\\ipykernel_248\\885889389.py:16: RuntimeWarning: invalid value encountered in longlong_scalars\n",
      "  LG_Recall = tp/(fn + tp)\n",
      "C:\\ProgramData\\anaconda3\\lib\\site-packages\\sklearn\\neighbors\\_classification.py:215: DataConversionWarning: A column-vector y was passed when a 1d array was expected. Please change the shape of y to (n_samples,), for example using ravel().\n",
      "  return self._fit(X, y)\n",
      "C:\\ProgramData\\anaconda3\\lib\\site-packages\\sklearn\\utils\\validation.py:1143: DataConversionWarning: A column-vector y was passed when a 1d array was expected. Please change the shape of y to (n_samples, ), for example using ravel().\n",
      "  y = column_or_1d(y, warn=True)\n"
     ]
    }
   ],
   "source": [
    "x = df.loc[:,['Gender', 'Age', 'Salary']].values\n",
    "y = df.loc[:,['PurchasePhone']].values\n",
    "\n",
    "X_train, X_test, y_train, y_test = model_selection.train_test_split(x, y,random_state=42, test_size=0.25)\n",
    "\n",
    "LG = linear_model.LogisticRegression(random_state = 0).fit(X_train, y_train)\n",
    "LG_y_pred = LG.predict(X_test)\n",
    "tn, fn, fp, tp = confusion_matrix(y_test, LG_y_pred).ravel()\n",
    "# tn, fn, fp, tp\n",
    "LG_Incorrect = fp + fn\n",
    "print(f'LG Incorrect= {LG_Incorrect}')\n",
    "LG_Accuracy = (tp+tn)/(tn + fn + fp + tp)\n",
    "print(f'LG Accuracy= {LG_Accuracy}')\n",
    "LG_Precision = tp/(fp + tp)\n",
    "print(f'LG Precision= {LG_Precision}')\n",
    "LG_Recall = tp/(fn + tp)\n",
    "print(f'LG Recall= {LG_Recall}')\n",
    "# עד פה הגעתי עם גיטיייייייייי!!!!!!!!!!!!\n",
    "\n",
    "print()\n",
    "KNN = KNeighborsClassifier(n_neighbors = 4)\n",
    "KNN.fit(X_train, y_train)\n",
    "KNN_y_pred = KNN.predict(X_test).ravel()\n",
    "tn, fn, fp, tp = confusion_matrix(y_test, KNN_y_pred).ravel()\n",
    "KNN_Incorrect = fp + fn\n",
    "print(f'KNN Incorrect= {KNN_Incorrect}')\n",
    "KNN_Accuracy = (tp+tn)/(tn + fn + fp + tp)\n",
    "print(f'KNN Accuracy= {KNN_Accuracy}')\n",
    "KNN_Precision = tp/(fp + tp)\n",
    "print(f'KNN Precision= {KNN_Precision}')\n",
    "KNN_Recall = tp/(fn + tp)\n",
    "print(f'KNN Recall= {KNN_Recall}')\n",
    "print()\n",
    "\n",
    "svc = svm.SVC(random_state = 0, C = 2.1).fit(X_train, y_train)\n",
    "svc_y_pred = svc.predict(X_test).ravel()\n",
    "tn, fn, fp, tp = confusion_matrix(y_test, svc_y_pred).ravel()\n",
    "svc_Incorrect = fp + fn\n",
    "print(f'svc Incorrect= {svc_Incorrect}')\n",
    "svc_Accuracy = (tp+tn)/(tn + fn + fp + tp)\n",
    "print(f'svc Accuracy= {svc_Accuracy}')\n",
    "svc_Precision = tp/(fp + tp)\n",
    "print(f'svc Precision= {svc_Precision}')\n",
    "svc_Recall = tp/(fn + tp)\n",
    "print(f'svc Recall= {svc_Recall}')\n",
    "print()"
   ]
  },
  {
   "cell_type": "code",
   "execution_count": 47,
   "id": "a7ae4e68",
   "metadata": {},
   "outputs": [
    {
     "ename": "TypeError",
     "evalue": "'module' object is not callable",
     "output_type": "error",
     "traceback": [
      "\u001b[1;31m---------------------------------------------------------------------------\u001b[0m",
      "\u001b[1;31mTypeError\u001b[0m                                 Traceback (most recent call last)",
      "\u001b[1;32m~\\AppData\\Local\\Temp\\ipykernel_26380\\225281762.py\u001b[0m in \u001b[0;36m<module>\u001b[1;34m\u001b[0m\n\u001b[1;32m----> 1\u001b[1;33m \u001b[0mSVM\u001b[0m \u001b[1;33m=\u001b[0m \u001b[0msvm\u001b[0m\u001b[1;33m(\u001b[0m\u001b[1;33m)\u001b[0m\u001b[1;33m\u001b[0m\u001b[1;33m\u001b[0m\u001b[0m\n\u001b[0m\u001b[0;32m      2\u001b[0m \u001b[0mKnn\u001b[0m\u001b[1;33m.\u001b[0m\u001b[0mfit\u001b[0m\u001b[1;33m(\u001b[0m\u001b[0mX_train\u001b[0m\u001b[1;33m,\u001b[0m \u001b[0my_train\u001b[0m\u001b[1;33m)\u001b[0m\u001b[1;33m\u001b[0m\u001b[1;33m\u001b[0m\u001b[0m\n\u001b[0;32m      3\u001b[0m \u001b[0mpred_Knn\u001b[0m \u001b[1;33m=\u001b[0m \u001b[0mKnn\u001b[0m\u001b[1;33m.\u001b[0m\u001b[0mpredict\u001b[0m\u001b[1;33m(\u001b[0m\u001b[0mX_test\u001b[0m\u001b[1;33m)\u001b[0m\u001b[1;33m\u001b[0m\u001b[1;33m\u001b[0m\u001b[0m\n",
      "\u001b[1;31mTypeError\u001b[0m: 'module' object is not callable"
     ]
    }
   ],
   "source": [
    "SVM = svm()\n",
    "Knn.fit(X_train, y_train)\n"
   ]
  },
  {
   "cell_type": "code",
   "execution_count": null,
   "id": "76404f2b",
   "metadata": {},
   "outputs": [],
   "source": []
  },
  {
   "cell_type": "code",
   "execution_count": null,
   "id": "e4a256e3",
   "metadata": {},
   "outputs": [],
   "source": []
  },
  {
   "cell_type": "code",
   "execution_count": null,
   "id": "81e6ee76",
   "metadata": {},
   "outputs": [],
   "source": []
  }
 ],
 "metadata": {
  "kernelspec": {
   "display_name": "Python 3 (ipykernel)",
   "language": "python",
   "name": "python3"
  },
  "language_info": {
   "codemirror_mode": {
    "name": "ipython",
    "version": 3
   },
   "file_extension": ".py",
   "mimetype": "text/x-python",
   "name": "python",
   "nbconvert_exporter": "python",
   "pygments_lexer": "ipython3",
   "version": "3.10.9"
  }
 },
 "nbformat": 4,
 "nbformat_minor": 5
}
