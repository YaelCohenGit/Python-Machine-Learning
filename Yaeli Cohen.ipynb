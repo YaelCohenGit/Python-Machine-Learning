{
 "cells": [
  {
   "cell_type": "code",
   "execution_count": 1,
   "id": "d6d8ebbf",
   "metadata": {},
   "outputs": [
    {
     "name": "stderr",
     "output_type": "stream",
     "text": [
      "Matplotlib is building the font cache; this may take a moment.\n"
     ]
    }
   ],
   "source": [
    "import matplotlib.pyplot as plt\n",
    "import numpy as np\n",
    "import pandas as pd\n",
    "import seaborn as sns\n",
    "from sklearn import linear_model\n",
    "%matplotlib inline"
   ]
  },
  {
   "cell_type": "markdown",
   "id": "66f70e8a",
   "metadata": {},
   "source": [
    "quiz 1"
   ]
  },
  {
   "cell_type": "code",
   "execution_count": 3,
   "id": "7d0cc9b1",
   "metadata": {},
   "outputs": [],
   "source": [
    "actual = [1,1,1,1,1,1,1,1,0,0,0,0]\n",
    "prediction = [0,0,1,1,1,1,1,1,0,0,0,1]"
   ]
  },
  {
   "cell_type": "code",
   "execution_count": 4,
   "id": "77ad518c",
   "metadata": {},
   "outputs": [
    {
     "data": {
      "text/plain": [
       "array([[3, 1],\n",
       "       [2, 6]], dtype=int64)"
      ]
     },
     "execution_count": 4,
     "metadata": {},
     "output_type": "execute_result"
    }
   ],
   "source": [
    "#confusion matrix\n",
    "from sklearn.metrics import confusion_matrix\n",
    "x = confusion_matrix(actual, prediction)\n",
    "x"
   ]
  },
  {
   "cell_type": "code",
   "execution_count": 5,
   "id": "6cf82537",
   "metadata": {},
   "outputs": [
    {
     "name": "stdout",
     "output_type": "stream",
     "text": [
      "3\n",
      "1\n",
      "2\n",
      "6\n"
     ]
    }
   ],
   "source": [
    "tp,fn,fp,tn = x.ravel()\n",
    "print(tp)\n",
    "print(fn)\n",
    "print(fp)\n",
    "print(tn)"
   ]
  },
  {
   "cell_type": "code",
   "execution_count": 6,
   "id": "3533628f",
   "metadata": {},
   "outputs": [
    {
     "data": {
      "text/plain": [
       "0.75"
      ]
     },
     "execution_count": 6,
     "metadata": {},
     "output_type": "execute_result"
    }
   ],
   "source": [
    "#accuracy\n",
    "accuracy = np.mean(tp+tn)/len(actual)\n",
    "accuracy"
   ]
  },
  {
   "cell_type": "code",
   "execution_count": 7,
   "id": "8837bff4",
   "metadata": {},
   "outputs": [
    {
     "data": {
      "text/plain": [
       "0.6"
      ]
     },
     "execution_count": 7,
     "metadata": {},
     "output_type": "execute_result"
    }
   ],
   "source": [
    "#precision\n",
    "precision = tp/(tp+fp)\n",
    "precision"
   ]
  },
  {
   "cell_type": "code",
   "execution_count": 8,
   "id": "306cab1e",
   "metadata": {},
   "outputs": [
    {
     "data": {
      "text/plain": [
       "0.75"
      ]
     },
     "execution_count": 8,
     "metadata": {},
     "output_type": "execute_result"
    }
   ],
   "source": [
    "#Sensitivity \n",
    "Sensitivity = tp/(tp+fn)\n",
    "Sensitivity "
   ]
  },
  {
   "cell_type": "code",
   "execution_count": 9,
   "id": "f972c1af",
   "metadata": {},
   "outputs": [
    {
     "data": {
      "text/plain": [
       "0.8571428571428571"
      ]
     },
     "execution_count": 9,
     "metadata": {},
     "output_type": "execute_result"
    }
   ],
   "source": [
    "#Specificity \n",
    "Specificity = tn/(tn + fn)\n",
    "Specificity "
   ]
  },
  {
   "cell_type": "markdown",
   "id": "b538b18e",
   "metadata": {},
   "source": [
    "quiz 2"
   ]
  },
  {
   "cell_type": "markdown",
   "id": "80ddb261",
   "metadata": {},
   "source": [
    "train - 75 points ,\n",
    "test - 25 points "
   ]
  },
  {
   "cell_type": "markdown",
   "id": "5fbf524a",
   "metadata": {},
   "source": [
    "quiz 3"
   ]
  },
  {
   "cell_type": "markdown",
   "id": "415acef5",
   "metadata": {},
   "source": [
    "if the accuracy is more than 1/4 it means that our classification algorithm is better than just random."
   ]
  },
  {
   "cell_type": "code",
   "execution_count": null,
   "id": "e5549554",
   "metadata": {},
   "outputs": [],
   "source": []
  },
  {
   "cell_type": "code",
   "execution_count": null,
   "id": "8d3b51e5",
   "metadata": {},
   "outputs": [],
   "source": []
  },
  {
   "cell_type": "code",
   "execution_count": null,
   "id": "84c8e0e7",
   "metadata": {},
   "outputs": [],
   "source": []
  }
 ],
 "metadata": {
  "kernelspec": {
   "display_name": "Python 3 (ipykernel)",
   "language": "python",
   "name": "python3"
  },
  "language_info": {
   "codemirror_mode": {
    "name": "ipython",
    "version": 3
   },
   "file_extension": ".py",
   "mimetype": "text/x-python",
   "name": "python",
   "nbconvert_exporter": "python",
   "pygments_lexer": "ipython3",
   "version": "3.10.9"
  }
 },
 "nbformat": 4,
 "nbformat_minor": 5
}
