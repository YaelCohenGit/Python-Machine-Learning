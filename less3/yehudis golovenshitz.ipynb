{
 "cells": [
  {
   "cell_type": "code",
   "execution_count": 1,
   "id": "709974e4",
   "metadata": {},
   "outputs": [
    {
     "name": "stderr",
     "output_type": "stream",
     "text": [
      "Matplotlib is building the font cache; this may take a moment.\n"
     ]
    }
   ],
   "source": [
    "import matplotlib.pyplot as plt\n",
    "import numpy as np\n",
    "import pandas as pd\n",
    "import seaborn as sns\n",
    "from sklearn import linear_model\n",
    "%matplotlib inline"
   ]
  },
  {
   "cell_type": "code",
   "execution_count": 24,
   "id": "772b2cc6",
   "metadata": {},
   "outputs": [],
   "source": [
    "insulation = np.array([3, 3, 10, 6, 6, 6, 6, 10, 10, 3, 10, 6, 3, 3, 10]).reshape(-1,1)\n",
    "temp = np.array([40, 27, 40, 73, 64, 34, 9, 8, 23, 63, 65, 41, 21, 38, 58]).reshape(-1,1)\n",
    "oil_gal = np.array([275.3, 363.8, 164.3, 40.80, 94.3, 230.9, 366.7, 300.6, 237.8, 121.4, 31.4, 203.5, 441.1, 323.0, 52.5]).reshape(-1,1)\n",
    "insulation_and_temp=np.array([[40,3],[27,3], [40,10],[ 73,6],[ 64,6],[ 34,6],[ 9,6],[ 8,10],[ 23,10], [63,3],[ 65,10],[ 41,6],[ 21,3],[ 38,3],[ 58,10]]).reshape(-1,2)"
   ]
  },
  {
   "cell_type": "markdown",
   "id": "70365da6",
   "metadata": {},
   "source": [
    "### Quis 1"
   ]
  },
  {
   "cell_type": "code",
   "execution_count": 36,
   "id": "255f5826",
   "metadata": {},
   "outputs": [
    {
     "name": "stdout",
     "output_type": "stream",
     "text": [
      "Model A\n",
      "b1 : [-20.35027027]\n",
      "b0 : [345.37837838]\n"
     ]
    }
   ],
   "source": [
    "lin_model_A = linear_model.LinearRegression()\n",
    "lin_model_A.fit(insulation, oil_gal)\n",
    "print('Model A')\n",
    "print(f'b1 : {lin_model_A.coef_[0]}')\n",
    "print(f'b0 : {lin_model_A.intercept_}')"
   ]
  },
  {
   "cell_type": "code",
   "execution_count": 37,
   "id": "fcf1e489",
   "metadata": {},
   "outputs": [
    {
     "name": "stdout",
     "output_type": "stream",
     "text": [
      "Model B\n",
      "b1 : [-5.4622077]\n",
      "b0 : [436.43822992]\n"
     ]
    }
   ],
   "source": [
    "lin_model_B = linear_model.LinearRegression()\n",
    "lin_model_B.fit(temp, oil_gal)\n",
    "print('Model B')\n",
    "print(f'b1 : {lin_model_B.coef_[0]}')\n",
    "print(f'b0 : {lin_model_B.intercept_}')"
   ]
  },
  {
   "cell_type": "code",
   "execution_count": 38,
   "id": "a360bd12",
   "metadata": {},
   "outputs": [
    {
     "name": "stdout",
     "output_type": "stream",
     "text": [
      "Model C\n",
      "b1 + b2 : [ -5.43658059 -20.01232067]\n",
      "b0 : [562.15100923]\n"
     ]
    }
   ],
   "source": [
    "lin_model_C = linear_model.LinearRegression()\n",
    "lin_model_C.fit(insulation_and_temp, oil_gal)\n",
    "print('Model C')\n",
    "print(f'b1 + b2 : {lin_model_C.coef_[0]}')\n",
    "print(f'b0 : {lin_model_C.intercept_}')"
   ]
  },
  {
   "cell_type": "markdown",
   "id": "fca9aca0",
   "metadata": {},
   "source": [
    "### Quis 2"
   ]
  },
  {
   "cell_type": "code",
   "execution_count": 47,
   "id": "105a2876",
   "metadata": {},
   "outputs": [
    {
     "name": "stdout",
     "output_type": "stream",
     "text": [
      "A :[[-265.12972973]], B :[[403.66498374]], C :[[278.97966759]]\n"
     ]
    }
   ],
   "source": [
    "A_predict = lin_model_A.predict([[30]])\n",
    "B_predict = lin_model_B.predict([[6]])\n",
    "C_predict = lin_model_C.predict([[30,6]])\n",
    "print(f'A :{A_predict}, B :{B_predict}, C :{C_predict}')"
   ]
  },
  {
   "cell_type": "markdown",
   "id": "bf6bf53a",
   "metadata": {},
   "source": [
    "### Quis 3\n"
   ]
  },
  {
   "cell_type": "code",
   "execution_count": 54,
   "id": "6cd7b994",
   "metadata": {},
   "outputs": [
    {
     "name": "stdout",
     "output_type": "stream",
     "text": [
      "Model A = R^2: 0.2163\n",
      "Model B = R^2: 0.7564\n",
      "Model C = R^2: 0.9656\n",
      "Model A = R^2(abj): 0.4651\n",
      "Model B = R^2(abj): 0.8697\n",
      "Model C = R^2(abj): 0.9827\n"
     ]
    }
   ],
   "source": [
    "print(\"Model A = R^2: {:.4f}\".format(lin_model_A.score(insulation, oil_gal)))\n",
    "print(\"Model B = R^2: {:.4f}\".format(lin_model_B.score(temp, oil_gal)))\n",
    "print(\"Model C = R^2: {:.4f}\".format(lin_model_C.score(insulation_and_temp, oil_gal)))\n",
    "print(\"Model A = R^2(abj): {:.4f}\".format(lin_model_A.score(insulation, oil_gal) ** 0.5))\n",
    "print(\"Model B = R^2(abj): {:.4f}\".format(lin_model_B.score(temp, oil_gal) ** 0.5))\n",
    "print(\"Model C = R^2(abj): {:.4f}\".format(lin_model_C.score(insulation_and_temp, oil_gal) ** 0.5))"
   ]
  },
  {
   "cell_type": "code",
   "execution_count": null,
   "id": "b86093dd",
   "metadata": {},
   "outputs": [],
   "source": []
  },
  {
   "cell_type": "code",
   "execution_count": null,
   "id": "9fc055ff",
   "metadata": {},
   "outputs": [],
   "source": []
  },
  {
   "cell_type": "code",
   "execution_count": null,
   "id": "a42ed98a",
   "metadata": {},
   "outputs": [],
   "source": []
  },
  {
   "cell_type": "code",
   "execution_count": null,
   "id": "c66f8033",
   "metadata": {},
   "outputs": [],
   "source": []
  }
 ],
 "metadata": {
  "kernelspec": {
   "display_name": "Python 3 (ipykernel)",
   "language": "python",
   "name": "python3"
  },
  "language_info": {
   "codemirror_mode": {
    "name": "ipython",
    "version": 3
   },
   "file_extension": ".py",
   "mimetype": "text/x-python",
   "name": "python",
   "nbconvert_exporter": "python",
   "pygments_lexer": "ipython3",
   "version": "3.10.9"
  }
 },
 "nbformat": 4,
 "nbformat_minor": 5
}
